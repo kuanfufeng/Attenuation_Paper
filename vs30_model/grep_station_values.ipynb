{
 "cells": [
  {
   "cell_type": "code",
   "execution_count": null,
   "metadata": {},
   "outputs": [],
   "source": [
    "import pandas as pd\n",
    "import pygmt\n",
    "import numpy as np"
   ]
  },
  {
   "cell_type": "code",
   "execution_count": null,
   "metadata": {},
   "outputs": [],
   "source": [
    "import math\n",
    "\n",
    "# Function to calculate Euclidean distance between two points\n",
    "def calculate_distance(point1, point2):\n",
    "    x1, y1 = point1\n",
    "    x2, y2 = point2\n",
    "    return math.sqrt((x1 - x2)**2 + (y1 - y2)**2)\n",
    "\n",
    "# Function to find the nearest point in a list of points to a given point\n",
    "def find_nearest_point(points, target_point):\n",
    "    min_distance = float('inf')  # Initialize with positive infinity\n",
    "    nearest_point = None\n",
    "\n",
    "    for point in points:\n",
    "        distance = calculate_distance(target_point, point)\n",
    "        if distance < min_distance:\n",
    "            min_distance = distance\n",
    "            nearest_point = point\n",
    "\n",
    "    return nearest_point\n",
    "\n"
   ]
  },
  {
   "cell_type": "code",
   "execution_count": null,
   "metadata": {},
   "outputs": [],
   "source": [
    "inp_model='Model-2alt'\n",
    "area='PNW'"
   ]
  },
  {
   "cell_type": "code",
   "execution_count": null,
   "metadata": {},
   "outputs": [],
   "source": [
    "# Load the formatted DataFrame\n",
    "df_vs30 = pd.read_csv(f\"{area}/geotiff_lon_lat_vs30_formatted_{inp_model}.csv\",)\n",
    "\n",
    "# Specify the grid spacing and region\n",
    "grid_spacing = 0.01  # Degrees (adjust as needed)\n",
    "region = [-126, -116, 41.8, 49.5] \n",
    "\n",
    "# Use xyz2grd to create a grid from the DataFrame\n",
    "grid = pygmt.xyz2grd(\n",
    "    data=df_vs30,\n",
    "    spacing=grid_spacing,\n",
    "    region=region,\n",
    "    registration=\"gridline\",  # Ensure proper grid registration\n",
    ")\n",
    "\n",
    "# Save the grid to a NetCDF file\n",
    "grid.to_netcdf(\"output_grid.nc\")\n",
    "\n",
    "# Optionally plot the grid to verify\n",
    "fig = pygmt.Figure()\n",
    "proj='M6c'\n",
    "\n",
    "# define figure configuration\n",
    "pygmt.config(MAP_GRID_PEN = '0.01p,250' , MAP_FRAME_PEN='0.15p', \n",
    "             MAP_FRAME_TYPE=\"plain\", MAP_TITLE_OFFSET=\"0.12p\", \n",
    "             FONT_TITLE=\"12p\", FONT_ANNOT='4p',\n",
    "             COLOR_MODEL=\"RGB\")\n",
    "\n",
    "pygmt.makecpt(cmap='jet', T='100/900/20', continuous=True, reverse=True)\n",
    "fig.grdimage(grid, region=region,projection=proj, cmap=True, frame=[\"af\", \"WSen\"])\n",
    "fig.coast(region=region, projection=proj, frame=\"a2g1\", resolution=\"f\", borders=\"2/0.05p\",\n",
    "                water='lightblue', shorelines='0/0.1p',)\n",
    "fig.text(x=region[0]+0.1,y=region[3]-0.5,text=f'Vs30 {inp_model}', font=\"8p,Helvetica,0\", \n",
    "         no_clip=True, justify=\"BL\" , pen=\"0.5p+255\", fill=\"white\")\n",
    "\n",
    "pygmt.config(FONT_ANNOT='8p',)\n",
    "\n",
    "fig.colorbar(position=\"JRM+w4c/0.2c\", frame=[\"xa100\", \"x+lVs30 (m/s)\"])\n",
    "\n",
    "fig.show()\n",
    "# fig.savefig(f\"RemoteSensingML_vs30_{inp_model}.png\", dpi=600)"
   ]
  },
  {
   "cell_type": "code",
   "execution_count": null,
   "metadata": {},
   "outputs": [],
   "source": [
    "#---Read  data---# \n",
    "fn= \"../attenuation_PNW/Annual_BB_Q.csv\"\n",
    "fi2=pd.read_csv(fn, sep=',',header=0)\n",
    "dfloc=pd.DataFrame(fi2)\n",
    "dfloc"
   ]
  },
  {
   "cell_type": "code",
   "execution_count": null,
   "metadata": {},
   "outputs": [],
   "source": [
    "# List of points in 2D space\n",
    "points=np.zeros(shape=(len(df_vs30.lon),2))\n",
    "near_points=np.zeros((len(dfloc.stlo),3))\n",
    "print(points.shape, near_points.shape)\n",
    "\n",
    "for x in range(len(df_vs30.lon)):\n",
    "    points[x,0] = df_vs30.lon[x]\n",
    "    points[x,1] = df_vs30.lat[x]\n",
    "#print(points) \n",
    "\n",
    "for k in range(len(dfloc.stlo)):\n",
    "    # Given point\n",
    "    target_point = (dfloc.stlo[k],dfloc.stla[k])\n",
    "    \n",
    "    # Find the nearest point\n",
    "    nearest = find_nearest_point(points, target_point)\n",
    "    near_points[k,0]=nearest[0]\n",
    "    near_points[k,1]=nearest[1] \n",
    "\n",
    "    # Use boolean indexing to find matching indices in df_vs30\n",
    "    matching_indices = (df_vs30[(df_vs30.lon == nearest[0]) & (df_vs30.lat == nearest[1])])\n",
    "    # print(f'matching: {matching_indices}')\n",
    "    near_points[k,2]=matching_indices.vs30\n",
    "    \n",
    "    #print(np.asarray(dfQ.iloc[k]), near_points[k])\n",
    "    #print(f\"The nearest point to {target_point} is {nearest}\")\n",
    "dfloc[\"nearest_lon\"]=near_points[:,0]\n",
    "dfloc[\"nearest_lat\"]=near_points[:,1]\n",
    "dfloc[\"vs30\"]=near_points[:,2]\n"
   ]
  },
  {
   "cell_type": "code",
   "execution_count": null,
   "metadata": {},
   "outputs": [],
   "source": [
    "dfloc.head(5)\n",
    "outfn=\"../attenuation_PNW/sta_waro_vs30.csv\"\n",
    "dfloc.to_csv(outfn)"
   ]
  },
  {
   "cell_type": "markdown",
   "metadata": {},
   "source": [
    "South CA"
   ]
  },
  {
   "cell_type": "code",
   "execution_count": null,
   "metadata": {},
   "outputs": [],
   "source": [
    "inp_model='Model-2alt'\n",
    "area='SouthCA'"
   ]
  },
  {
   "cell_type": "code",
   "execution_count": null,
   "metadata": {},
   "outputs": [],
   "source": [
    "# Load the formatted DataFrame\n",
    "df_vs30 = pd.read_csv(f\"{area}/geotiff_lon_lat_vs30_formatted_{inp_model}.csv\",)\n",
    "\n",
    "# Specify the grid spacing and region\n",
    "grid_spacing = 0.01  # Degrees (adjust as needed)\n",
    "region = [-126, -116, 41.8, 49.5] \n",
    "\n",
    "# Use xyz2grd to create a grid from the DataFrame\n",
    "grid = pygmt.xyz2grd(\n",
    "    data=df_vs30,\n",
    "    spacing=grid_spacing,\n",
    "    region=region,\n",
    "    registration=\"gridline\",  # Ensure proper grid registration\n",
    ")\n",
    "\n",
    "# Save the grid to a NetCDF file\n",
    "grid.to_netcdf(\"output_grid.nc\")\n",
    "\n",
    "# Optionally plot the grid to verify\n",
    "fig = pygmt.Figure()\n",
    "proj='M6c'\n",
    "\n",
    "# define figure configuration\n",
    "pygmt.config(MAP_GRID_PEN = '0.01p,250' , MAP_FRAME_PEN='0.15p', \n",
    "             MAP_FRAME_TYPE=\"plain\", MAP_TITLE_OFFSET=\"0.12p\", \n",
    "             FONT_TITLE=\"12p\", FONT_ANNOT='4p',\n",
    "             COLOR_MODEL=\"RGB\")\n",
    "\n",
    "pygmt.makecpt(cmap='jet', T='100/900/20', continuous=True, reverse=True)\n",
    "fig.grdimage(grid, region=region,projection=proj, cmap=True, frame=[\"af\", \"WSen\"])\n",
    "fig.coast(region=region, projection=proj, frame=\"a2g1\", resolution=\"f\", borders=\"2/0.05p\",\n",
    "                water='lightblue', shorelines='0/0.1p',)\n",
    "fig.text(x=region[0]+0.1,y=region[2]+0.1,text=f'Vs30 {inp_model}', font=\"8p,Helvetica,0\", \n",
    "         no_clip=True, justify=\"BL\" , pen=\"0.5p+255\", fill=\"white\")\n",
    "\n",
    "pygmt.config(FONT_ANNOT='8p',)\n",
    "\n",
    "fig.colorbar(position=\"JRM+w4c/0.2c\", frame=[\"xa100\", \"x+lVs30 (m/s)\"])\n",
    "\n",
    "fig.show()\n",
    "# fig.savefig(f\"RemoteSensingML_vs30_{inp_model}.png\", dpi=600)"
   ]
  },
  {
   "cell_type": "code",
   "execution_count": null,
   "metadata": {},
   "outputs": [],
   "source": [
    "#---Read  data---# \n",
    "fn= f\"../attenuation_{area}/CA_BB_Q.csv\"\n",
    "fi2=pd.read_csv(fn, sep=',',header=0)\n",
    "dfloc=pd.DataFrame(fi2)\n",
    "dfloc"
   ]
  },
  {
   "cell_type": "code",
   "execution_count": null,
   "metadata": {},
   "outputs": [],
   "source": [
    "# List of points in 2D space\n",
    "points=np.zeros(shape=(len(df_vs30.lon),2))\n",
    "near_points=np.zeros((len(dfloc.stlo),3))\n",
    "print(points.shape, near_points.shape)\n",
    "\n",
    "for x in range(len(df_vs30.lon)):\n",
    "    points[x,0] = df_vs30.lon[x]\n",
    "    points[x,1] = df_vs30.lat[x]\n",
    "#print(points) \n",
    "\n",
    "for k in range(len(dfloc.stlo)):\n",
    "    # Given point\n",
    "    target_point = (dfloc.stlo[k],dfloc.stla[k])\n",
    "    \n",
    "    # Find the nearest point\n",
    "    nearest = find_nearest_point(points, target_point)\n",
    "    near_points[k,0]=nearest[0]\n",
    "    near_points[k,1]=nearest[1] \n",
    "\n",
    "    # Use boolean indexing to find matching indices in df_vs30\n",
    "    matching_indices = (df_vs30[(df_vs30.lon == nearest[0]) & (df_vs30.lat == nearest[1])])\n",
    "    # print(f'matching: {matching_indices}')\n",
    "    near_points[k,2]=matching_indices.vs30\n",
    "    \n",
    "    #print(np.asarray(dfQ.iloc[k]), near_points[k])\n",
    "    #print(f\"The nearest point to {target_point} is {nearest}\")\n",
    "dfloc[\"nearest_lon\"]=near_points[:,0]\n",
    "dfloc[\"nearest_lat\"]=near_points[:,1]\n",
    "dfloc[\"vs30\"]=near_points[:,2]\n"
   ]
  },
  {
   "cell_type": "code",
   "execution_count": null,
   "metadata": {},
   "outputs": [],
   "source": [
    "dfloc.head(5)\n",
    "outfn=\"sta_CI_vs30.csv\"\n",
    "dfloc.to_csv(outfn)"
   ]
  }
 ],
 "metadata": {
  "kernelspec": {
   "display_name": "codetest",
   "language": "python",
   "name": "python3"
  },
  "language_info": {
   "codemirror_mode": {
    "name": "ipython",
    "version": 3
   },
   "file_extension": ".py",
   "mimetype": "text/x-python",
   "name": "python",
   "nbconvert_exporter": "python",
   "pygments_lexer": "ipython3",
   "version": "3.9.20"
  },
  "orig_nbformat": 4
 },
 "nbformat": 4,
 "nbformat_minor": 2
}
